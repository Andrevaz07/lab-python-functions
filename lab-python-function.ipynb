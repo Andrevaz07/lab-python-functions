{
 "cells": [
  {
   "cell_type": "markdown",
   "id": "25d7736c-ba17-4aff-b6bb-66eba20fbf4e",
   "metadata": {},
   "source": [
    "# Lab | Functions"
   ]
  },
  {
   "cell_type": "markdown",
   "id": "c392bd3e",
   "metadata": {
    "tags": []
   },
   "source": [
    "# Exercise: Managing Customer Orders with Functions\n",
    "\n",
    "In the previous exercise, you improved the code for managing customer orders by using loops and flow control. Now, let's take it a step further and refactor the code by introducing functions.\n",
    "\n",
    "Follow the steps below to complete the exercise:\n",
    "\n",
    "1. Define a function named `initialize_inventory` that takes `products` as a parameter. Inside the function, implement the code for initializing the inventory dictionary using a loop and user input.\n",
    "\n",
    "2. Define a function named `get_customer_orders` that takes no parameters. Inside the function, implement the code for prompting the user to enter the product names using a loop. The function should return the `customer_orders` set.\n",
    "\n",
    "3. Define a function named `update_inventory` that takes `customer_orders` and `inventory` as parameters. Inside the function, implement the code for updating the inventory dictionary based on the customer orders.\n",
    "\n",
    "4. Define a function named `calculate_order_statistics` that takes `customer_orders` and `products` as parameters. Inside the function, implement the code for calculating the order statistics (total products ordered, and percentage of unique products ordered). The function should return these values.\n",
    "\n",
    "5. Define a function named `print_order_statistics` that takes `order_statistics` as a parameter. Inside the function, implement the code for printing the order statistics.\n",
    "\n",
    "6. Define a function named `print_updated_inventory` that takes `inventory` as a parameter. Inside the function, implement the code for printing the updated inventory.\n",
    "\n",
    "7. Call the functions in the appropriate sequence to execute the program and manage customer orders.\n",
    "\n",
    "Hints for functions:\n",
    "\n",
    "- Consider the input parameters required for each function and their return values.\n",
    "- Utilize function parameters and return values to transfer data between functions.\n",
    "- Test your functions individually to ensure they work correctly.\n",
    "\n",
    "\n"
   ]
  },
  {
   "cell_type": "code",
   "execution_count": 6,
   "id": "29e1e742",
   "metadata": {},
   "outputs": [
    {
     "name": "stdout",
     "output_type": "stream",
     "text": [
      "How many t-shirt's do you have available? 5\n",
      "How many mug's do you have available? 5\n",
      "How many hat's do you have available? 5\n",
      "How many book's do you have available? 5\n",
      "How many keychain's do you have available? 5\n",
      "What product do you wish to order? ['t-shirt', 'mug', 'hat', 'book', 'keychain']mug\n",
      "Do you want to add another product to your order? (yes/no)no\n",
      "Thanks for your order\n",
      "Order Statistics:\n",
      "Total Products Ordered: 1\n",
      "Percentage of Products Ordered: 20.0%\n",
      "Updated Inventory:\n",
      "t-shirt: 5\n",
      "mug: 4\n",
      "hat: 5\n",
      "book: 5\n",
      "keychain: 5\n"
     ]
    }
   ],
   "source": [
    "products = [\"t-shirt\", \"mug\", \"hat\", \"book\", \"keychain\"]\n",
    "\n",
    "inventory = {}\n",
    "\n",
    "customer_orders = set()\n",
    "\n",
    "def initialize_inventory(products):\n",
    "    inventory = {}\n",
    "    for product in products:\n",
    "        x = int(input(f\"How many {product}'s do you have available? \"))\n",
    "        inventory[product] = x\n",
    "    return inventory\n",
    "\n",
    "def get_customer_orders():\n",
    "    customer_orders = set()\n",
    "    while True:\n",
    "        x = input(f\"What product do you wish to order? {products}\")\n",
    "        customer_orders.add(x)\n",
    "        while True:\n",
    "            user_answer = input(\"Do you want to add another product to your order? (yes/no)\")\n",
    "            if user_answer == \"yes\":\n",
    "                break\n",
    "            elif user_answer == \"no\":\n",
    "                print(\"Thanks for your order\")\n",
    "                return customer_orders\n",
    "            else:\n",
    "                print(\"Sorry didn't understand\")\n",
    "\n",
    "def update_inventory(customer_orders, inventory):\n",
    "    for product in inventory:\n",
    "        if product in customer_orders:\n",
    "            inventory[product] -= 1\n",
    "\n",
    "def calculate_order_statistics(customer_orders, products):\n",
    "    totalprod_ord = len(customer_orders)\n",
    "    precentprod_ord = (totalprod_ord / len(products)) * 100\n",
    "    ordered_status = (totalprod_ord, precentprod_ord)\n",
    "    return ordered_status\n",
    "\n",
    "def print_order_statistics(order_statistics):\n",
    "    order_statistics = total_prod_ord, percent_prod_ord\n",
    "    print(\"Order Statistics:\")\n",
    "    print(f\"Total Products Ordered: {total_prod_ord}\")\n",
    "    print(f\"Percentage of Products Ordered: {percent_prod_ord}%\")\n",
    "\n",
    "def print_updated_inventory(inventory):\n",
    "    print(\"Updated Inventory:\")\n",
    "    for product, quantity in inventory.items():\n",
    "        print(f\"{product}: {quantity}\")    \n",
    "    \n",
    "# Call the functions in the appropriate sequence\n",
    "\n",
    "inventory = initialize_inventory(products)\n",
    "\n",
    "customer_orders = get_customer_orders()\n",
    "\n",
    "update_inventory(customer_orders, inventory)\n",
    "\n",
    "order_statistics = calculate_order_statistics(customer_orders, products)\n",
    "\n",
    "print_order_statistics(order_statistics)\n",
    "\n",
    "print_updated_inventory(inventory)\n",
    "\n",
    "\n",
    "\n",
    "\n",
    "\n",
    "\n"
   ]
  },
  {
   "cell_type": "code",
   "execution_count": null,
   "id": "0af242bc",
   "metadata": {},
   "outputs": [],
   "source": []
  }
 ],
 "metadata": {
  "kernelspec": {
   "display_name": "Python 3 (ipykernel)",
   "language": "python",
   "name": "python3"
  },
  "language_info": {
   "codemirror_mode": {
    "name": "ipython",
    "version": 3
   },
   "file_extension": ".py",
   "mimetype": "text/x-python",
   "name": "python",
   "nbconvert_exporter": "python",
   "pygments_lexer": "ipython3",
   "version": "3.11.5"
  }
 },
 "nbformat": 4,
 "nbformat_minor": 5
}
